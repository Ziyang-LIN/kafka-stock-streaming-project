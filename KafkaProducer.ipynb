{
 "cells": [
  {
   "cell_type": "code",
   "execution_count": 1,
   "metadata": {},
   "outputs": [],
   "source": [
    "# Install Python for Kafka if necessary: pip install kafka-python\n",
    "import pandas as pd\n",
    "from kafka import KafkaProducer\n",
    "from time import sleep\n",
    "from json import dumps\n",
    "import requests\n",
    "import json\n",
    "\n",
    "# Create the producer object on the EC2 public IP where Kafka is running\n",
    "producer = KafkaProducer(bootstrap_servers=['3.20.222.206:9092'], \n",
    "                         value_serializer=lambda x: dumps(x).encode('utf-8')) # UTF-8 encoding to JSON format"
   ]
  },
  {
   "cell_type": "code",
   "execution_count": 9,
   "metadata": {},
   "outputs": [
    {
     "data": {
      "text/plain": [
       "<kafka.producer.future.FutureRecordMetadata at 0x7fa6876bbdc0>"
      ]
     },
     "execution_count": 9,
     "metadata": {},
     "output_type": "execute_result"
    }
   ],
   "source": [
    "# Test running of Kafka server\n",
    "producer.send('test1', value=\"{'name': 'Ziyang', 'message': 'Hello World'}\")"
   ]
  },
  {
   "cell_type": "code",
   "execution_count": null,
   "metadata": {},
   "outputs": [],
   "source": [
    "API_KEY = 'MY_IEX_CLOUD_API'\n",
    "BASE_URL = 'https://sandbox.iexapis.com/stable/'\n",
    "RATE_LIMIT = 5\n",
    "\n",
    "def get_stock_data(symbol):\n",
    "    try:\n",
    "        url = f\"{BASE_URL}stock/{symbol}/quote?token={API_KEY}\"\n",
    "        response = requests.get(url)\n",
    "        response.raise_for_status()  # Raises an HTTPError for bad responses\n",
    "        return response.json() # Convert to proper JSON structure\n",
    "    except requests.exceptions.HTTPError as errh:\n",
    "        print(f\"HTTP Error for {symbol}: {errh}\")\n",
    "    except requests.exceptions.ConnectionError as errc:\n",
    "        print(f\"Error Connecting for {symbol}: {errc}\")\n",
    "    except requests.exceptions.Timeout as errt:\n",
    "        print(f\"Timeout Error for {symbol}: {errt}\")\n",
    "    except requests.exceptions.RequestException as err:\n",
    "        print(f\"Error for {symbol}: {err}\")\n",
    "        \n",
    "    return None\n",
    "\n",
    "stocks = [\"AAPL\", \"GOOGL\", \"TSLA\", \"MSFT\", \"AMZN\"]\n",
    "while True:\n",
    "    for stock in stocks:\n",
    "        stock_data = get_stock_data(stock)\n",
    "        stock_data['ticker'] = stock\n",
    "        if stock_data:\n",
    "            producer.send('test1', value=stock_data)\n",
    "\n",
    "    sleep(60/RATE_LIMIT) # Set a break between each send to prevent overloading"
   ]
  },
  {
   "cell_type": "code",
   "execution_count": null,
   "metadata": {},
   "outputs": [],
   "source": [
    "producer.flush() # Flush (empty) all data sent in Kafka if necessary"
   ]
  }
 ],
 "metadata": {
  "interpreter": {
   "hash": "40d3a090f54c6569ab1632332b64b2c03c39dcf918b08424e98f38b5ae0af88f"
  },
  "kernelspec": {
   "display_name": "Python 3.8.3 ('base')",
   "language": "python",
   "name": "python3"
  },
  "language_info": {
   "codemirror_mode": {
    "name": "ipython",
    "version": 3
   },
   "file_extension": ".py",
   "mimetype": "text/x-python",
   "name": "python",
   "nbconvert_exporter": "python",
   "pygments_lexer": "ipython3",
   "version": "3.8.3"
  },
  "orig_nbformat": 4
 },
 "nbformat": 4,
 "nbformat_minor": 2
}
