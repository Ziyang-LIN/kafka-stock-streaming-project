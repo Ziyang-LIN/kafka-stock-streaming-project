{
 "cells": [
  {
   "cell_type": "code",
   "execution_count": 3,
   "metadata": {},
   "outputs": [],
   "source": [
    "# Install Python for S3 File System if necessary: pip install s3fs\n",
    "from kafka import KafkaConsumer\n",
    "from time import sleep\n",
    "from json import dumps,loads\n",
    "import json\n",
    "from s3fs import S3FileSystem\n",
    "from datetime import datetime"
   ]
  },
  {
   "cell_type": "code",
   "execution_count": 4,
   "metadata": {},
   "outputs": [],
   "source": [
    "# Create the consumer object on the EC2 public IP where Kafka is running\n",
    "consumer = KafkaConsumer('test1',\n",
    "                         bootstrap_servers=['3.20.222.206:9092'],\n",
    "                         value_deserializer=lambda x: loads(x.decode('utf-8'))) # UTF-8 decoding to JSON format"
   ]
  },
  {
   "cell_type": "code",
   "execution_count": null,
   "metadata": {},
   "outputs": [],
   "source": [
    "for c in consumer:\n",
    "    print(c.value) # Testing: print data in real-time as Producer creates it"
   ]
  },
  {
   "cell_type": "code",
   "execution_count": null,
   "metadata": {},
   "outputs": [],
   "source": [
    "from s3fs import S3FileSystem \n",
    "\n",
    "s3 = S3FileSystem() # create the S3FS object\n",
    "bucket_path = \"s3://kafka-stock-streaming-project\"\n",
    "\n",
    "def save_to_s3(content, filename):\n",
    "    with s3.open(f'{bucket_path}/{filename}', 'w') as file:\n",
    "        json.dump(content, file) # Dump data that consumer receives into S3 in real-time\n",
    "\n",
    "for message in consumer:\n",
    "    try:\n",
    "        data = json.loads(message.value)\n",
    "        stock_symbol = data['ticker']\n",
    "        stock_data[stock_symbol] = data\n",
    "\n",
    "        # Check if we have data for all stocks\n",
    "        if all(symbol in stock_data for symbol in ['AAPL', 'GOOGL', 'TSLA', 'MSFT', 'AMZN']):\n",
    "            filename = f\"stock_data_{datetime.now().strftime('%Y%m%d%H%M%S')}.json\"\n",
    "            save_to_s3(stock_data, filename)\n",
    "            stock_data = {}  # Reset for next group\n",
    "\n",
    "    except Exception as e:\n",
    "        print(f\"Error processing {message}: {e}\")\n",
    "\n",
    "consumer.close()"
   ]
  },
  {
   "cell_type": "code",
   "execution_count": null,
   "metadata": {},
   "outputs": [],
   "source": []
  }
 ],
 "metadata": {
  "interpreter": {
   "hash": "40d3a090f54c6569ab1632332b64b2c03c39dcf918b08424e98f38b5ae0af88f"
  },
  "kernelspec": {
   "display_name": "Python 3.8.3 ('base')",
   "language": "python",
   "name": "python3"
  },
  "language_info": {
   "codemirror_mode": {
    "name": "ipython",
    "version": 3
   },
   "file_extension": ".py",
   "mimetype": "text/x-python",
   "name": "python",
   "nbconvert_exporter": "python",
   "pygments_lexer": "ipython3",
   "version": "3.8.3"
  },
  "orig_nbformat": 4
 },
 "nbformat": 4,
 "nbformat_minor": 2
}
